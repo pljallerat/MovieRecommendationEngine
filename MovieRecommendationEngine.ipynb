{
 "cells": [
  {
   "cell_type": "code",
   "execution_count": 4,
   "metadata": {},
   "outputs": [
    {
     "name": "stdout",
     "output_type": "stream",
     "text": [
      "Processing /home/pierre-louis/.cache/pip/wheels/df/88/9e/58ef1f74892fef590330ca0830b5b6d995ba29b44f977b3926/pyspark-3.1.2-py2.py3-none-any.whl\n",
      "Requirement already satisfied: matplotlib in /home/pierre-louis/.local/lib/python3.8/site-packages (3.4.3)\n",
      "Requirement already satisfied: pandas in /home/pierre-louis/.local/lib/python3.8/site-packages (1.3.3)\n",
      "Requirement already satisfied: numpy in /home/pierre-louis/.local/lib/python3.8/site-packages (1.21.2)\n",
      "Requirement already satisfied: seaborn in /home/pierre-louis/.local/lib/python3.8/site-packages (0.11.2)\n",
      "Requirement already satisfied: py4j==0.10.9 in /home/pierre-louis/.local/lib/python3.8/site-packages (from pyspark) (0.10.9)\n",
      "Requirement already satisfied: pillow>=6.2.0 in /home/pierre-louis/.local/lib/python3.8/site-packages (from matplotlib) (8.4.0)\n",
      "Requirement already satisfied: python-dateutil>=2.7 in /home/pierre-louis/.local/lib/python3.8/site-packages (from matplotlib) (2.8.2)\n",
      "Requirement already satisfied: cycler>=0.10 in /home/pierre-louis/.local/lib/python3.8/site-packages (from matplotlib) (0.10.0)\n",
      "Requirement already satisfied: kiwisolver>=1.0.1 in /home/pierre-louis/.local/lib/python3.8/site-packages (from matplotlib) (1.3.2)\n",
      "Requirement already satisfied: pyparsing>=2.2.1 in /home/pierre-louis/.local/lib/python3.8/site-packages (from matplotlib) (2.4.7)\n",
      "Requirement already satisfied: pytz>=2017.3 in /home/pierre-louis/.local/lib/python3.8/site-packages (from pandas) (2021.3)\n",
      "Requirement already satisfied: scipy>=1.0 in /home/pierre-louis/.local/lib/python3.8/site-packages (from seaborn) (1.7.1)\n",
      "Requirement already satisfied: six>=1.5 in /usr/lib/python3/dist-packages (from python-dateutil>=2.7->matplotlib) (1.14.0)\n",
      "Installing collected packages: pyspark\n",
      "Successfully installed pyspark-3.1.2\n"
     ]
    }
   ],
   "source": [
    "!pip install pyspark matplotlib pandas numpy seaborn"
   ]
  },
  {
   "cell_type": "markdown",
   "metadata": {
    "id": "bpCFJ3ImD1a2"
   },
   "source": [
    "# Rating some movies\n",
    "#### To make recommendation for you, we are going to learn your taste by asking you to rate a few movies."
   ]
  },
  {
   "cell_type": "code",
   "execution_count": 5,
   "metadata": {
    "colab": {
     "base_uri": "https://localhost:8080/"
    },
    "executionInfo": {
     "elapsed": 38412,
     "status": "ok",
     "timestamp": 1633885011985,
     "user": {
      "displayName": "Pierre-Louis Jallerat",
      "photoUrl": "https://lh3.googleusercontent.com/a/default-user=s64",
      "userId": "06702434749662866949"
     },
     "user_tz": -60
    },
    "id": "f9pPU2HAD1a9",
    "outputId": "9e88e58a-0130-4b5c-8ce7-50c6891beb03"
   },
   "outputs": [
    {
     "name": "stdout",
     "output_type": "stream",
     "text": [
      "Looks like you've already rated the movies. Overwrite ratings (y/N)? y\n",
      "Please rate the following movie (1-5 (best), or 0 if not seen): \n",
      "Toy Story (1995): 5\n",
      "Independence Day (a.k.a. ID4) (1996): 5\n",
      "Dances with Wolves (1990): 5\n",
      "Star Wars: Episode VI - Return of the Jedi (1983): 5\n",
      "Mission: Impossible (1996): 4\n",
      "Ace Ventura: Pet Detective (1994): 1\n",
      "Die Hard: With a Vengeance (1995): 2\n",
      "Batman Forever (1995): 2\n",
      "Pretty Woman (1990): 4\n",
      "Men in Black (1997): 5\n",
      "Dumb & Dumber (1994): 2\n"
     ]
    }
   ],
   "source": [
    "import sys\n",
    "import os\n",
    "from os import remove\n",
    "from time import time\n",
    "from os.path import join, isfile, dirname\n",
    "\n",
    "topMovies = \"\"\"1,Toy Story (1995)\n",
    "780,Independence Day (a.k.a. ID4) (1996)\n",
    "590,Dances with Wolves (1990)\n",
    "1210,Star Wars: Episode VI - Return of the Jedi (1983)\n",
    "648,Mission: Impossible (1996)\n",
    "344,Ace Ventura: Pet Detective (1994)\n",
    "165,Die Hard: With a Vengeance (1995)\n",
    "153,Batman Forever (1995)\n",
    "597,Pretty Woman (1990)\n",
    "1580,Men in Black (1997)\n",
    "231,Dumb & Dumber (1994)\"\"\"\n",
    "\n",
    "parentDir = os.path.abspath('')\n",
    "ratingsFile = join(parentDir, \"personalRatings.txt\")\n",
    "\n",
    "if isfile(ratingsFile):\n",
    "    r = input(\"Looks like you've already rated the movies. Overwrite ratings (y/N)? \")\n",
    "    if r and r[0].lower() == \"y\":\n",
    "        remove(ratingsFile)\n",
    "    else:\n",
    "        sys.exit()\n",
    "\n",
    "prompt = \"Please rate the following movie (1-5 (best), or 0 if not seen): \"\n",
    "print(prompt)\n",
    "\n",
    "now = int(time())\n",
    "n = 0\n",
    "\n",
    "f = open(ratingsFile, 'w')\n",
    "for line in topMovies.split(\"\\n\"):\n",
    "    ls = line.strip().split(\",\")\n",
    "    valid = False\n",
    "    while not valid:\n",
    "        rStr = input(ls[1] + \": \")\n",
    "        r = int(rStr) if rStr.isdigit() else -1\n",
    "        if r < 0 or r > 5:\n",
    "            print(prompt)\n",
    "        else:\n",
    "            valid = True\n",
    "            if r > 0:\n",
    "                f.write(\"0::%s::%d::%d\\n\" % (ls[0], r, now))\n",
    "                n += 1\n",
    "f.close()\n",
    "\n",
    "if n == 0:\n",
    "    print(\"No rating provided!\")\n"
   ]
  },
  {
   "cell_type": "markdown",
   "metadata": {
    "id": "iTEHSDQcD1bA"
   },
   "source": [
    "# Solution Structure"
   ]
  },
  {
   "cell_type": "code",
   "execution_count": 6,
   "metadata": {
    "colab": {
     "base_uri": "https://localhost:8080/"
    },
    "executionInfo": {
     "elapsed": 15190,
     "status": "ok",
     "timestamp": 1633885048248,
     "user": {
      "displayName": "Pierre-Louis Jallerat",
      "photoUrl": "https://lh3.googleusercontent.com/a/default-user=s64",
      "userId": "06702434749662866949"
     },
     "user_tz": -60
    },
    "id": "qe_zq1OjD1bB",
    "outputId": "cc45a7df-efdf-4baf-9549-01dbf958cdfa"
   },
   "outputs": [
    {
     "name": "stderr",
     "output_type": "stream",
     "text": [
      "21/10/16 11:28:16 WARN Utils: Your hostname, ZENBOOK-PL resolves to a loopback address: 127.0.1.1; using 172.25.144.78 instead (on interface eth0)\n",
      "21/10/16 11:28:16 WARN Utils: Set SPARK_LOCAL_IP if you need to bind to another address\n",
      "WARNING: An illegal reflective access operation has occurred\n",
      "WARNING: Illegal reflective access by org.apache.spark.unsafe.Platform (file:/home/pierre-louis/.local/lib/python3.8/site-packages/pyspark/jars/spark-unsafe_2.12-3.1.2.jar) to constructor java.nio.DirectByteBuffer(long,int)\n",
      "WARNING: Please consider reporting this to the maintainers of org.apache.spark.unsafe.Platform\n",
      "WARNING: Use --illegal-access=warn to enable warnings of further illegal reflective access operations\n",
      "WARNING: All illegal access operations will be denied in a future release\n",
      "21/10/16 11:28:17 WARN NativeCodeLoader: Unable to load native-hadoop library for your platform... using builtin-java classes where applicable\n",
      "Using Spark's default log4j profile: org/apache/spark/log4j-defaults.properties\n",
      "Setting default log level to \"WARN\".\n",
      "To adjust logging level use sc.setLogLevel(newLevel). For SparkR, use setLogLevel(newLevel).\n",
      "                                                                                \r"
     ]
    },
    {
     "name": "stdout",
     "output_type": "stream",
     "text": [
      "+------+-------+------+\n",
      "|userId|movieId|rating|\n",
      "+------+-------+------+\n",
      "|     0|      1|   5.0|\n",
      "|     0|    780|   5.0|\n",
      "|     0|    590|   5.0|\n",
      "|     0|   1210|   5.0|\n",
      "|     0|    648|   4.0|\n",
      "|     0|    344|   1.0|\n",
      "|     0|    165|   2.0|\n",
      "|     0|    153|   2.0|\n",
      "|     0|    597|   4.0|\n",
      "|     0|   1580|   5.0|\n",
      "|     0|    231|   2.0|\n",
      "+------+-------+------+\n",
      "\n",
      "+------+-------+------+\n",
      "|userId|movieId|rating|\n",
      "+------+-------+------+\n",
      "|     1|   1193|   5.0|\n",
      "|     1|    661|   3.0|\n",
      "|     1|    914|   3.0|\n",
      "|     1|   3408|   4.0|\n",
      "|     1|   2355|   5.0|\n",
      "|     1|   1197|   3.0|\n",
      "|     1|   1287|   5.0|\n",
      "|     1|   2804|   5.0|\n",
      "|     1|    594|   4.0|\n",
      "|     1|    919|   4.0|\n",
      "|     1|    595|   5.0|\n",
      "|     1|    938|   4.0|\n",
      "|     1|   2398|   4.0|\n",
      "|     1|   2918|   4.0|\n",
      "|     1|   1035|   5.0|\n",
      "|     1|   2791|   4.0|\n",
      "|     1|   2687|   3.0|\n",
      "|     1|   2018|   4.0|\n",
      "|     1|   3105|   5.0|\n",
      "|     1|   2797|   4.0|\n",
      "+------+-------+------+\n",
      "only showing top 20 rows\n",
      "\n",
      "+-------+--------------------+\n",
      "|movieID|           movieName|\n",
      "+-------+--------------------+\n",
      "|      1|    Toy Story (1995)|\n",
      "|      2|      Jumanji (1995)|\n",
      "|      3|Grumpier Old Men ...|\n",
      "|      4|Waiting to Exhale...|\n",
      "|      5|Father of the Bri...|\n",
      "|      6|         Heat (1995)|\n",
      "|      7|      Sabrina (1995)|\n",
      "|      8| Tom and Huck (1995)|\n",
      "|      9| Sudden Death (1995)|\n",
      "|     10|    GoldenEye (1995)|\n",
      "|     11|American Presiden...|\n",
      "|     12|Dracula: Dead and...|\n",
      "|     13|        Balto (1995)|\n",
      "|     14|        Nixon (1995)|\n",
      "|     15|Cutthroat Island ...|\n",
      "|     16|       Casino (1995)|\n",
      "|     17|Sense and Sensibi...|\n",
      "|     18|   Four Rooms (1995)|\n",
      "|     19|Ace Ventura: When...|\n",
      "|     20|  Money Train (1995)|\n",
      "+-------+--------------------+\n",
      "only showing top 20 rows\n",
      "\n"
     ]
    }
   ],
   "source": [
    "# !/usr/bin/env python\n",
    "\n",
    "import sys\n",
    "import os\n",
    "import itertools\n",
    "from math import sqrt\n",
    "from operator import add\n",
    "from os.path import join, isfile, dirname\n",
    "from pyspark.sql import SparkSession\n",
    "#from pyspark.mllib.recommendation import ALS\n",
    "from pyspark.ml.recommendation import ALS\n",
    "\n",
    "\n",
    "def parseRating(line):\n",
    "    \"\"\"\n",
    "    Parses a rating record in MovieLens format userId::movieId::rating::timestamp .\n",
    "    \"\"\"\n",
    "    fields = line.strip().split(\"::\")\n",
    "    return int(fields[3]) % 10, (int(fields[0]), int(fields[1]), float(fields[2]))\n",
    "\n",
    "def _parseRating(line):\n",
    "    \"\"\"\n",
    "    Parses a rating record in MovieLens format userId::movieId::rating::timestamp .\n",
    "    \"\"\"\n",
    "    fields = line.strip().split(\"::\")\n",
    "    return (int(fields[0]), int(fields[1]), float(fields[2]))\n",
    "\n",
    "def parseMovie(line):\n",
    "    \"\"\"\n",
    "    Parses a movie record in MovieLens format movieId::movieTitle .\n",
    "    \"\"\"\n",
    "    fields = line.strip().split(\"::\")\n",
    "    return int(fields[0]), fields[1]\n",
    "\n",
    "def loadRatings(ratingsFile):\n",
    "    \"\"\"\n",
    "    Load ratings from file.\n",
    "    \"\"\"\n",
    "    if not isfile(ratingsFile):\n",
    "        print(\"File %s does not exist.\" % ratingsFile)\n",
    "        sys.exit(1)\n",
    "    f = open(ratingsFile, 'r')\n",
    "    ratings = filter(lambda r: r[2] > 0, [parseRating(line)[1] for line in f])\n",
    "    f.close()\n",
    "    if not ratings:\n",
    "        print(\"No ratings provided.\")\n",
    "        sys.exit(1)\n",
    "    else:\n",
    "        return ratings\n",
    "\n",
    "def computeRmse(model, data, n):\n",
    "    \"\"\"\n",
    "    Compute RMSE (Root Mean Squared Error).\n",
    "    \"\"\"\n",
    "    predictions = model.predictAll(data.map(lambda x: (x[0], x[1])))\n",
    "    predictionsAndRatings = predictions.map(lambda x: ((x[0], x[1]), x[2])) \\\n",
    "      .join(data.map(lambda x: ((x[0], x[1]), x[2]))) \\\n",
    "      .values()\n",
    "    return sqrt(predictionsAndRatings.map(lambda x: (x[0] - x[1]) ** 2).reduce(add) / float(n))\n",
    "\n",
    "if __name__ == \"__main__\":\n",
    "\n",
    "    # set up environment\n",
    "    spark = SparkSession.builder \\\n",
    "   .master(\"local\") \\\n",
    "   .appName(\"Movie Recommendation Engine\") \\\n",
    "   .config(\"spark.executor.memory\", \"1gb\") \\\n",
    "   .getOrCreate()\n",
    "   \n",
    "    sc = spark.sparkContext\n",
    "    \n",
    "    movieLensHomeDir = os.path.abspath('') + '/movielens/medium/'\n",
    "\n",
    "    # load personal ratings\n",
    "    myRatings = loadRatings(os.path.abspath('personalRatings.txt'))\n",
    "    myRatingsRDD = sc.parallelize(myRatings, 1)\n",
    "    \n",
    "    # load ratings and movie titles\n",
    "\n",
    "    movieLensHomeDir = os.path.abspath('') + '/movielens/medium/'\n",
    "    \n",
    "    # ratings is an RDD of (last digit of timestamp, (userId, movieId, rating))\n",
    "    ratings = sc.textFile(join(movieLensHomeDir, \"ratings.dat\")).map(_parseRating)\n",
    "\n",
    "    # movies is an RDD of (movieId, movieTitle)\n",
    "    movies = sc.textFile(join(movieLensHomeDir, \"movies.dat\")).map(parseMovie)\n",
    "\n",
    "    # Casting the RDD into Dataframe and visualise data to check if the data exist. \n",
    "    myRatingsDF = myRatingsRDD.toDF([\"userId\", \"movieId\", \"rating\"])\n",
    "    moviesDF = movies.toDF(['movieID', 'movieName'])\n",
    "    ratingsDF = ratings.toDF([\"userId\", \"movieId\", \"rating\"])\n",
    "    \n",
    "    myRatingsDF.show()\n",
    "    ratingsDF.show()\n",
    "    moviesDF.show()"
   ]
  },
  {
   "cell_type": "markdown",
   "metadata": {
    "id": "CWQ0BiqwaI2S"
   },
   "source": [
    "# Data Exploration"
   ]
  },
  {
   "cell_type": "code",
   "execution_count": 7,
   "metadata": {
    "colab": {
     "base_uri": "https://localhost:8080/"
    },
    "executionInfo": {
     "elapsed": 15409,
     "status": "ok",
     "timestamp": 1633885124400,
     "user": {
      "displayName": "Pierre-Louis Jallerat",
      "photoUrl": "https://lh3.googleusercontent.com/a/default-user=s64",
      "userId": "06702434749662866949"
     },
     "user_tz": -60
    },
    "id": "IE7a8fBmaILr",
    "outputId": "91122ab4-4e0a-49a0-db70-4ec50d338579"
   },
   "outputs": [
    {
     "name": "stdout",
     "output_type": "stream",
     "text": [
      "The database contains 3883 movies\n"
     ]
    },
    {
     "name": "stderr",
     "output_type": "stream",
     "text": [
      "                                                                                \r"
     ]
    },
    {
     "name": "stdout",
     "output_type": "stream",
     "text": [
      "The database contains 1000209 ratings\n"
     ]
    },
    {
     "name": "stderr",
     "output_type": "stream",
     "text": [
      "[Stage 11:==============================================>       (173 + 1) / 200]\r"
     ]
    },
    {
     "name": "stdout",
     "output_type": "stream",
     "text": [
      "The database contains 6040 users\n"
     ]
    },
    {
     "name": "stderr",
     "output_type": "stream",
     "text": [
      "\r",
      "                                                                                \r"
     ]
    }
   ],
   "source": [
    "# Get an idea of the size of the dataset\n",
    "from pyspark.sql.functions import countDistinct\n",
    "\n",
    "nbOfMovies = moviesDF.count()\n",
    "print(\"The database contains\", nbOfMovies, \"movies\")\n",
    "\n",
    "nbOfRatings = ratingsDF.count()\n",
    "print(\"The database contains\", nbOfRatings, \"ratings\")\n",
    "\n",
    "nbOfUsers=ratingsDF.select(countDistinct(\"userId\")).first()[0]\n",
    "print(\"The database contains\", nbOfUsers, \"users\")"
   ]
  },
  {
   "cell_type": "code",
   "execution_count": 8,
   "metadata": {
    "colab": {
     "base_uri": "https://localhost:8080/",
     "height": 297
    },
    "executionInfo": {
     "elapsed": 2976,
     "status": "ok",
     "timestamp": 1633885155718,
     "user": {
      "displayName": "Pierre-Louis Jallerat",
      "photoUrl": "https://lh3.googleusercontent.com/a/default-user=s64",
      "userId": "06702434749662866949"
     },
     "user_tz": -60
    },
    "id": "DKTN0NtQA61-",
    "outputId": "61838d90-089f-488a-ed78-b42ec8894d5d"
   },
   "outputs": [
    {
     "name": "stderr",
     "output_type": "stream",
     "text": [
      "                                                                                \r"
     ]
    },
    {
     "data": {
      "image/png": "[encoded data removed]",
      "text/plain": [
       "<Figure size 1008x288 with 1 Axes>"
      ]
     },
     "metadata": {
      "needs_background": "light"
     },
     "output_type": "display_data"
    }
   ],
   "source": [
    "# Years with the highest number of movies release in the DB\n",
    "from pyspark.sql.functions import split, regexp_extract, col, length, substring\n",
    "import seaborn as snsat \n",
    "import matplotlib.pyplot as plt\n",
    "\n",
    "moviesDFyear = moviesDF.withColumn('year', regexp_extract(col('movieName'), '\\(([^)]*)\\)[^(]*$', 1))\n",
    "\n",
    "moviesByYearPd = moviesDFyear.groupBy('year').count().toPandas()\n",
    "moviesByYearPd = moviesByYearPd.sort_values(by=['year'], ascending = True)\n",
    "\n",
    "plt.figure(figsize=(14,4))\n",
    "ax = snsat.barplot(x=\"year\", y=\"count\", data=moviesByYearPd)\n",
    "ax.set_xticklabels(ax.get_xticklabels(), rotation=90, ha=\"right\")\n",
    "plt.tight_layout()\n",
    "plt.show()"
   ]
  },
  {
   "cell_type": "code",
   "execution_count": 9,
   "metadata": {
    "colab": {
     "base_uri": "https://localhost:8080/",
     "height": 585
    },
    "executionInfo": {
     "elapsed": 19003,
     "status": "ok",
     "timestamp": 1633885210169,
     "user": {
      "displayName": "Pierre-Louis Jallerat",
      "photoUrl": "https://lh3.googleusercontent.com/a/default-user=s64",
      "userId": "06702434749662866949"
     },
     "user_tz": -60
    },
    "id": "l40hM0f6xnLg",
    "outputId": "fe27279f-e547-4bdd-ab7b-08672d2ce926"
   },
   "outputs": [
    {
     "name": "stderr",
     "output_type": "stream",
     "text": [
      "                                                                                \r"
     ]
    },
    {
     "data": {
      "image/png": "[encoded data removed]",
      "text/plain": [
       "<Figure size 1008x576 with 1 Axes>"
      ]
     },
     "metadata": {
      "needs_background": "light"
     },
     "output_type": "display_data"
    }
   ],
   "source": [
    "# Movies with the most important number of ratings\n",
    "\n",
    "movies_ratingsDF = ratingsDF.join(moviesDF, 'movieId')\n",
    "moviesByNbRate = movies_ratingsDF.groupby('movieId').count()\n",
    "moviesByNbRate = moviesByNbRate.join(moviesDF, ['movieId'], 'left')\n",
    "moviesByNbRate = moviesByNbRate.sort(moviesByNbRate['count'].desc()).withColumnRenamed('count', 'NbRatings' )\n",
    "\n",
    "moviesByNbRatePd = moviesByNbRate.toPandas()\n",
    "moviesByNbRatePd = moviesByNbRatePd.sort_values(by=['NbRatings'], ascending = True)\n",
    "moviesByNbRatePd = moviesByNbRatePd.nlargest(35, columns='NbRatings')\n",
    "\n",
    "plt.figure(figsize=(14,8))\n",
    "ax = snsat.barplot(y=\"NbRatings\", x=\"movieName\", data=moviesByNbRatePd)\n",
    "ax.set_xticklabels(ax.get_xticklabels(), rotation=40, ha=\"right\")\n",
    "plt.tight_layout()\n",
    "plt.show()"
   ]
  },
  {
   "cell_type": "markdown",
   "metadata": {
    "id": "Qbe7rDAgc-CF"
   },
   "source": [
    "# Pre-Processing"
   ]
  },
  {
   "cell_type": "code",
   "execution_count": 10,
   "metadata": {
    "colab": {
     "base_uri": "https://localhost:8080/"
    },
    "executionInfo": {
     "elapsed": 7534,
     "status": "ok",
     "timestamp": 1633885217692,
     "user": {
      "displayName": "Pierre-Louis Jallerat",
      "photoUrl": "https://lh3.googleusercontent.com/a/default-user=s64",
      "userId": "06702434749662866949"
     },
     "user_tz": -60
    },
    "id": "0E9hYZm7c9xV",
    "outputId": "d1a14b90-65a3-4e68-d48e-d7f16e53e43b"
   },
   "outputs": [
    {
     "name": "stderr",
     "output_type": "stream",
     "text": [
      "\r",
      "[Stage 24:>                                                         (0 + 1) / 1]\r"
     ]
    },
    {
     "name": "stdout",
     "output_type": "stream",
     "text": [
      "Number of ratings out of the range [0 - 5]: 0\n"
     ]
    },
    {
     "name": "stderr",
     "output_type": "stream",
     "text": [
      "\r",
      "                                                                                \r"
     ]
    }
   ],
   "source": [
    "# Check if the ratings are consistent (between 0 and 5)\n",
    "ratingsDF = ratingsDF.filter((ratingsDF.rating <= 5) & (ratingsDF.rating >= 0) )\n",
    "print(\"Number of ratings out of the range [0 - 5]:\", nbOfRatings - ratingsDF.count())"
   ]
  },
  {
   "cell_type": "code",
   "execution_count": 11,
   "metadata": {
    "colab": {
     "base_uri": "https://localhost:8080/"
    },
    "executionInfo": {
     "elapsed": 5605,
     "status": "ok",
     "timestamp": 1633885223293,
     "user": {
      "displayName": "Pierre-Louis Jallerat",
      "photoUrl": "https://lh3.googleusercontent.com/a/default-user=s64",
      "userId": "06702434749662866949"
     },
     "user_tz": -60
    },
    "id": "CN6r10UfzT0G",
    "outputId": "29320f22-de34-423d-f2ea-f65177b2b7a8"
   },
   "outputs": [
    {
     "name": "stderr",
     "output_type": "stream",
     "text": [
      "                                                                                \r"
     ]
    },
    {
     "name": "stdout",
     "output_type": "stream",
     "text": [
      "+------+-------+------+\n",
      "|userId|movieId|rating|\n",
      "+------+-------+------+\n",
      "|     0|      0|     0|\n",
      "+------+-------+------+\n",
      "\n",
      "+-------+---------+\n",
      "|movieID|movieName|\n",
      "+-------+---------+\n",
      "|      0|        0|\n",
      "+-------+---------+\n",
      "\n"
     ]
    }
   ],
   "source": [
    "# Check if there is not NaN value in the matrix rating\n",
    "from pyspark.sql.functions import isnan, when, count, col\n",
    "ratingsDF.select([count(when(isnan(c), c)).alias(c) for c in ratingsDF.columns]).show()\n",
    "\n",
    "moviesDF.select([count(when(isnan(c), c)).alias(c) for c in moviesDF.columns]).show()"
   ]
  },
  {
   "cell_type": "code",
   "execution_count": 12,
   "metadata": {
    "colab": {
     "base_uri": "https://localhost:8080/"
    },
    "executionInfo": {
     "elapsed": 10595,
     "status": "ok",
     "timestamp": 1633885233884,
     "user": {
      "displayName": "Pierre-Louis Jallerat",
      "photoUrl": "https://lh3.googleusercontent.com/a/default-user=s64",
      "userId": "06702434749662866949"
     },
     "user_tz": -60
    },
    "id": "4rXb8fsA0h4p",
    "outputId": "e9d62d19-3189-41b8-d499-c38382964c8a"
   },
   "outputs": [
    {
     "name": "stderr",
     "output_type": "stream",
     "text": [
      "                                                                                \r"
     ]
    },
    {
     "name": "stdout",
     "output_type": "stream",
     "text": [
      "Number of duplicate row for the rating dataset: 0\n"
     ]
    },
    {
     "name": "stderr",
     "output_type": "stream",
     "text": [
      "[Stage 34:================================================>     (181 + 1) / 200]\r"
     ]
    },
    {
     "name": "stdout",
     "output_type": "stream",
     "text": [
      "Number of duplicate row the movies dataset: 0\n"
     ]
    },
    {
     "name": "stderr",
     "output_type": "stream",
     "text": [
      "\r",
      "                                                                                \r"
     ]
    }
   ],
   "source": [
    "# Drop dublicate rows\n",
    "ratingsDF = ratingsDF.dropDuplicates()\n",
    "print(\"Number of duplicate row for the rating dataset:\", nbOfRatings - ratingsDF.count())\n",
    "\n",
    "moviesDF = moviesDF.dropDuplicates()\n",
    "print(\"Number of duplicate row the movies dataset:\", nbOfMovies - moviesDF.count())"
   ]
  },
  {
   "cell_type": "markdown",
   "metadata": {
    "id": "Fb10Pee4bOXA"
   },
   "source": [
    "# Implementation of the Machine Learning Prediction Part 1"
   ]
  },
  {
   "cell_type": "code",
   "execution_count": 13,
   "metadata": {
    "id": "bHYzJBLGD1bF"
   },
   "outputs": [],
   "source": [
    "from pyspark.ml.evaluation import RegressionEvaluator\n",
    "from pyspark.ml.recommendation import ALS\n",
    "from pyspark.ml.tuning import ParamGridBuilder, CrossValidator"
   ]
  },
  {
   "cell_type": "code",
   "execution_count": 14,
   "metadata": {
    "id": "cKPBp-xGWhnb"
   },
   "outputs": [],
   "source": [
    "# Create test and train set\n",
    "(train, test) = ratingsDF.randomSplit([0.8, 0.2], seed = 5678)"
   ]
  },
  {
   "cell_type": "code",
   "execution_count": 15,
   "metadata": {
    "colab": {
     "background_save": true
    },
    "id": "uYpvPKToD1bG"
   },
   "outputs": [],
   "source": [
    "# Create ALS model\n",
    "als = ALS(maxIter=5, regParam=0.01, userCol=\"userId\", itemCol=\"movieId\", ratingCol=\"rating\",\n",
    "          coldStartStrategy=\"drop\")"
   ]
  },
  {
   "cell_type": "code",
   "execution_count": 16,
   "metadata": {
    "colab": {
     "background_save": true,
     "base_uri": "https://localhost:8080/"
    },
    "executionInfo": {
     "elapsed": 7945,
     "status": "ok",
     "timestamp": 1633885326740,
     "user": {
      "displayName": "Pierre-Louis Jallerat",
      "photoUrl": "https://lh3.googleusercontent.com/a/default-user=s64",
      "userId": "06702434749662866949"
     },
     "user_tz": -60
    },
    "id": "WqGh_Yo9IuId",
    "outputId": "cb658545-b4da-4129-bf65-294b84d9ec8e"
   },
   "outputs": [
    {
     "name": "stderr",
     "output_type": "stream",
     "text": [
      "                                                                                \r"
     ]
    },
    {
     "name": "stdout",
     "output_type": "stream",
     "text": [
      "+------+-------+------+\n",
      "|userId|movieId|rating|\n",
      "+------+-------+------+\n",
      "|     0|      1|   5.0|\n",
      "|     0|    780|   5.0|\n",
      "|     0|    590|   5.0|\n",
      "|     0|   1210|   5.0|\n",
      "|     0|    648|   4.0|\n",
      "|     0|    344|   1.0|\n",
      "|     0|    165|   2.0|\n",
      "|     0|    153|   2.0|\n",
      "|     0|    597|   4.0|\n",
      "|     0|   1580|   5.0|\n",
      "|     0|    231|   2.0|\n",
      "+------+-------+------+\n",
      "\n"
     ]
    }
   ],
   "source": [
    "# Add my movies ratings to the training database\n",
    "trainWithMyRatings = train.union(myRatingsDF)\n",
    "\n",
    "# Check if the ratings were correctly added\n",
    "trainWithMyRatings.filter(trainWithMyRatings.userId == 0).show()"
   ]
  },
  {
   "cell_type": "code",
   "execution_count": 17,
   "metadata": {
    "colab": {
     "base_uri": "https://localhost:8080/"
    },
    "executionInfo": {
     "elapsed": 43076,
     "status": "ok",
     "timestamp": 1633885369801,
     "user": {
      "displayName": "Pierre-Louis Jallerat",
      "photoUrl": "https://lh3.googleusercontent.com/a/default-user=s64",
      "userId": "06702434749662866949"
     },
     "user_tz": -60
    },
    "id": "tMrBaq2yJVx3",
    "outputId": "ea003e60-902d-48a2-ba32-963fa44ba5f7"
   },
   "outputs": [
    {
     "name": "stderr",
     "output_type": "stream",
     "text": [
      "21/10/16 11:29:23 WARN BLAS: Failed to load implementation from: com.github.fommil.netlib.NativeSystemBLAS\n",
      "21/10/16 11:29:23 WARN BLAS: Failed to load implementation from: com.github.fommil.netlib.NativeRefBLAS\n",
      "21/10/16 11:29:23 WARN LAPACK: Failed to load implementation from: com.github.fommil.netlib.NativeSystemLAPACK\n",
      "21/10/16 11:29:23 WARN LAPACK: Failed to load implementation from: com.github.fommil.netlib.NativeRefLAPACK\n",
      "[Stage 102:============>(199 + 1) / 200][Stage 103:=>              (1 + 0) / 10]\r"
     ]
    },
    {
     "name": "stdout",
     "output_type": "stream",
     "text": [
      "+------+-------+------+----------+\n",
      "|userId|movieId|rating|prediction|\n",
      "+------+-------+------+----------+\n",
      "|  4784|    148|   3.0| 3.6053724|\n",
      "|  1605|    148|   2.0|  2.480437|\n",
      "|   840|    148|   1.0|  2.640998|\n",
      "|   216|    148|   2.0| 3.2104535|\n",
      "|   482|    148|   2.0| 4.0845118|\n",
      "|   752|    148|   4.0| 3.8177094|\n",
      "|   424|    148|   4.0| 3.2076116|\n",
      "|  2456|    148|   2.0| 2.8767366|\n",
      "|  3841|    463|   3.0| 3.5243313|\n",
      "|  3650|    463|   2.0| 2.9931886|\n",
      "|   319|    463|   2.0| 2.1309261|\n",
      "|  5047|    463|   3.0| 2.7555351|\n",
      "|  5306|    463|   2.0|  1.998049|\n",
      "|  2210|    463|   3.0| 4.4559836|\n",
      "|  4510|    463|   2.0| 1.9079659|\n",
      "+------+-------+------+----------+\n",
      "only showing top 15 rows\n",
      "\n"
     ]
    },
    {
     "name": "stderr",
     "output_type": "stream",
     "text": [
      "\r",
      "                                                                                \r"
     ]
    }
   ],
   "source": [
    "# Train my model with my ratings\n",
    "modelWithMyRatings = als.fit(trainWithMyRatings)\n",
    "\n",
    "# Generate the predictions with the new model based on the test dataset\n",
    "predictions = modelWithMyRatings.transform(test)\n",
    "\n",
    "# Remove potential NaN number generated during the prediction\n",
    "predictions = predictions.filter(predictions.prediction != float('nan'))\n",
    "\n",
    "# Overview of the generated prediction\n",
    "predictions.show(15)"
   ]
  },
  {
   "cell_type": "code",
   "execution_count": 18,
   "metadata": {
    "colab": {
     "base_uri": "https://localhost:8080/"
    },
    "executionInfo": {
     "elapsed": 30847,
     "status": "ok",
     "timestamp": 1633885400637,
     "user": {
      "displayName": "Pierre-Louis Jallerat",
      "photoUrl": "https://lh3.googleusercontent.com/a/default-user=s64",
      "userId": "06702434749662866949"
     },
     "user_tz": -60
    },
    "id": "_nSs8mXKKHBu",
    "outputId": "0760fcc6-e058-4114-9650-ee8e1607767e"
   },
   "outputs": [
    {
     "name": "stderr",
     "output_type": "stream",
     "text": [
      "[Stage 124:==================================================>  (191 + 1) / 200]\r"
     ]
    },
    {
     "name": "stdout",
     "output_type": "stream",
     "text": [
      "The RMSE is 0.8891979830926231\n"
     ]
    },
    {
     "name": "stderr",
     "output_type": "stream",
     "text": [
      "\r",
      "                                                                                \r"
     ]
    }
   ],
   "source": [
    "evaluator = RegressionEvaluator(metricName=\"rmse\", labelCol=\"rating\",\n",
    "                                predictionCol=\"prediction\")\n",
    "\n",
    "# Run the RMSE evaluator to check to quality of the new model\n",
    "rmse = evaluator.evaluate(predictions)\n",
    "print(\"The RMSE is\", rmse)"
   ]
  },
  {
   "cell_type": "code",
   "execution_count": 19,
   "metadata": {
    "colab": {
     "base_uri": "https://localhost:8080/"
    },
    "executionInfo": {
     "elapsed": 861,
     "status": "ok",
     "timestamp": 1633885401488,
     "user": {
      "displayName": "Pierre-Louis Jallerat",
      "photoUrl": "https://lh3.googleusercontent.com/a/default-user=s64",
      "userId": "06702434749662866949"
     },
     "user_tz": -60
    },
    "id": "o7-oPuH4K-0O",
    "outputId": "1fe08596-0830-42c9-f41a-4837469dcd2c"
   },
   "outputs": [],
   "source": [
    "# Generate the the recommendations.\n",
    "# We are only looking for the top 5 of my recommended movies. The function recommendForAllUsers(x) find the x best recommandations. So we can use 5 as a parameter.\n",
    "myRecommendations = modelWithMyRatings.recommendForAllUsers(5)"
   ]
  },
  {
   "cell_type": "code",
   "execution_count": 20,
   "metadata": {
    "colab": {
     "base_uri": "https://localhost:8080/"
    },
    "executionInfo": {
     "elapsed": 25701,
     "status": "ok",
     "timestamp": 1633885493913,
     "user": {
      "displayName": "Pierre-Louis Jallerat",
      "photoUrl": "https://lh3.googleusercontent.com/a/default-user=s64",
      "userId": "06702434749662866949"
     },
     "user_tz": -60
    },
    "id": "viPvCWjzWojp",
    "outputId": "c2eb132b-5008-4925-8dc1-ec87b274c2d3"
   },
   "outputs": [
    {
     "name": "stderr",
     "output_type": "stream",
     "text": [
      "[Stage 163:================================================>    (184 + 1) / 200]\r"
     ]
    },
    {
     "name": "stdout",
     "output_type": "stream",
     "text": [
      "1 : I Am Cuba (Soy Cuba/Ya Kuba) (1964)\n",
      "2 : You So Crazy (1994)\n",
      "3 : From the Journals of Jean Seberg (1995)\n",
      "4 : All the Rage (a.k.a. It's the Rage) (1999)\n",
      "5 : Castle, The (1997)\n"
     ]
    },
    {
     "name": "stderr",
     "output_type": "stream",
     "text": [
      "\r",
      "                                                                                \r"
     ]
    }
   ],
   "source": [
    "from pyspark.sql.functions import explode\n",
    "\n",
    "# Cast the predictions into a dataframme well structure.\n",
    "myRecommendations = myRecommendations.withColumn(\"rec_exp\", explode(\"recommendations\")).select('userId', col(\"rec_exp.movieId\"), col(\"rec_exp.rating\"))\n",
    "\n",
    "# My ratings correspond to the user 0 so I have to filter my dataframe on userId = 0. Then I use the movie Dataframe to find the name of the movies id.\n",
    "myRecommendationsList =  myRecommendations.filter(myRecommendations.userId == 0).join(moviesDF, ['movieId'], 'left')\n",
    "\n",
    "# Display my top 5 movies\n",
    "myRecommendationsList =  myRecommendations.filter(myRecommendations.userId == 0).join(moviesDF, ['movieId'], 'left').sort('rating', ascending=False).collect()\n",
    "for i in range(0, 5):\n",
    "  print(i + 1, \":\", myRecommendationsList[i][3])"
   ]
  },
  {
   "cell_type": "markdown",
   "metadata": {
    "id": "Lyup2XN1Ywao"
   },
   "source": [
    "# Implementation of the Machine Learning Prediction Part 2\n",
    "\n",
    "In the part, we are going to try to generate a better ALS model. Using a list of parameters (instead of a set), we are going to try different tuning for our model, compare their RMSE and choose the most accurate model. By making more tries to find the best tuning, we hope generating a better model.\n",
    "\n",
    "We will start this new part with the same train and test datasets"
   ]
  },
  {
   "cell_type": "code",
   "execution_count": 21,
   "metadata": {
    "id": "GzslgnjpZGW-"
   },
   "outputs": [],
   "source": [
    "# Create ALS model\n",
    "als2 = ALS(userCol=\"userId\", itemCol=\"movieId\", ratingCol=\"rating\",\n",
    "          coldStartStrategy=\"drop\")\n"
   ]
  },
  {
   "cell_type": "code",
   "execution_count": 22,
   "metadata": {
    "colab": {
     "base_uri": "https://localhost:8080/"
    },
    "executionInfo": {
     "elapsed": 218,
     "status": "ok",
     "timestamp": 1633885796654,
     "user": {
      "displayName": "Pierre-Louis Jallerat",
      "photoUrl": "https://lh3.googleusercontent.com/a/default-user=s64",
      "userId": "06702434749662866949"
     },
     "user_tz": -60
    },
    "id": "v1JHiv86ZN4A",
    "outputId": "5fddc923-82eb-486f-9226-3a7547627cec"
   },
   "outputs": [
    {
     "name": "stdout",
     "output_type": "stream",
     "text": [
      "Number of possible models to be tested:  16\n"
     ]
    }
   ],
   "source": [
    "from pyspark.ml.tuning import ParamGridBuilder, CrossValidator\n",
    "from pyspark.ml.evaluation import RegressionEvaluator\n",
    "\n",
    "# Giving a list of parameter for the tuning instead of set of parameter\n",
    "param_grid = ParamGridBuilder() \\\n",
    "            .addGrid(als.rank, [4, 12, 30, 60]) \\\n",
    "            .addGrid(als.regParam, [.01, .04, .1, .14]) \\\n",
    "            .build()\n",
    "\n",
    "# Create a cross validation. The CrossValidator object will allows us to compare the RMSE (\"evaluator\" parameter) of our als2 model for each set of parameter.\n",
    "cv2 = CrossValidator(estimator=als2, estimatorParamMaps=param_grid, evaluator=evaluator, numFolds=5)\n",
    "\n",
    "# There are 2 parameters with 4 possible values for each one, which means 16 possible combinaisons of parameters.\n",
    "print (\"Number of possible models to be tested: \", len(param_grid))"
   ]
  },
  {
   "cell_type": "code",
   "execution_count": 23,
   "metadata": {
    "id": "VZ0g86IiGgrs"
   },
   "outputs": [
    {
     "name": "stderr",
     "output_type": "stream",
     "text": [
      "                                                                                \r"
     ]
    },
    {
     "name": "stdout",
     "output_type": "stream",
     "text": [
      "Best Model parameter:\n",
      "  Rank: 10\n",
      "  RegParam: 0.1\n"
     ]
    }
   ],
   "source": [
    "# Train the model using the CrossValidator Object and the train dataset\n",
    "model2 = cv2.fit(trainWithMyRatings)\n",
    "\n",
    "# Extract best model from the cv model above\n",
    "best_model2 = model2.bestModel\n",
    "\n",
    "print(\"Best Model parameter:\")\n",
    "print(\"  Rank:\", best_model2._java_obj.parent().getRank())\n",
    "print(\"  RegParam:\", best_model2._java_obj.parent().getRegParam())"
   ]
  },
  {
   "cell_type": "code",
   "execution_count": 24,
   "metadata": {},
   "outputs": [
    {
     "name": "stderr",
     "output_type": "stream",
     "text": [
      "[Stage 7451:===========>(199 + 1) / 200][Stage 7452:=>             (1 + 0) / 10]\r"
     ]
    },
    {
     "name": "stdout",
     "output_type": "stream",
     "text": [
      "+------+-------+------+----------+\n",
      "|userId|movieId|rating|prediction|\n",
      "+------+-------+------+----------+\n",
      "|  4784|    148|   3.0| 3.0642452|\n",
      "|  1605|    148|   2.0| 2.2297986|\n",
      "|   840|    148|   1.0| 2.6753983|\n",
      "|   216|    148|   2.0| 2.4761913|\n",
      "|   482|    148|   2.0| 2.6010926|\n",
      "|   752|    148|   4.0| 3.0426629|\n",
      "|   424|    148|   4.0| 2.9130206|\n",
      "|  2456|    148|   2.0| 2.7770104|\n",
      "|  3841|    463|   3.0| 2.6822438|\n",
      "|  3650|    463|   2.0| 2.6182535|\n",
      "|   319|    463|   2.0| 2.1724565|\n",
      "|  5047|    463|   3.0| 2.4073944|\n",
      "|  5306|    463|   2.0| 2.5796626|\n",
      "|  2210|    463|   3.0| 2.8623059|\n",
      "|  4510|    463|   2.0| 2.2323442|\n",
      "|   721|    463|   4.0|  3.387203|\n",
      "|  5511|    463|   2.0| 3.2944078|\n",
      "|   331|    463|   4.0|   2.48739|\n",
      "|  3829|    463|   2.0| 1.8953273|\n",
      "|  1962|    463|   3.0|   1.94984|\n",
      "+------+-------+------+----------+\n",
      "only showing top 20 rows\n",
      "\n"
     ]
    },
    {
     "name": "stderr",
     "output_type": "stream",
     "text": [
      "\r",
      "                                                                                \r"
     ]
    }
   ],
   "source": [
    "# Generate the predictions with the new model based on the test data\n",
    "predictions2 = best_model2.transform(test)\n",
    "predictions2.show()"
   ]
  },
  {
   "cell_type": "code",
   "execution_count": 25,
   "metadata": {
    "colab": {
     "base_uri": "https://localhost:8080/"
    },
    "executionInfo": {
     "elapsed": 30056,
     "status": "ok",
     "timestamp": 1633907483319,
     "user": {
      "displayName": "Pierre-Louis Jallerat",
      "photoUrl": "https://lh3.googleusercontent.com/a/default-user=s64",
      "userId": "06702434749662866949"
     },
     "user_tz": -60
    },
    "id": "8TJI90FIGgry",
    "outputId": "64c0c87c-dcb0-456d-f658-5da42d2325b5"
   },
   "outputs": [
    {
     "name": "stderr",
     "output_type": "stream",
     "text": [
      "[Stage 7483:=================================================>  (189 + 1) / 200]\r"
     ]
    },
    {
     "name": "stdout",
     "output_type": "stream",
     "text": [
      "The RMSE is 0.8690734856973982\n"
     ]
    },
    {
     "name": "stderr",
     "output_type": "stream",
     "text": [
      "\r",
      "                                                                                \r"
     ]
    }
   ],
   "source": [
    "# Run the previous RMSE evaluator to check to quality of the new model\n",
    "rmse2 = evaluator.evaluate(predictions2)\n",
    "print(\"The RMSE is\", rmse2)"
   ]
  },
  {
   "cell_type": "markdown",
   "metadata": {
    "id": "LzYvYzPYHjY1"
   },
   "source": [
    "Using the same test dataset the RMSE lower than in the first part so our model is more accurate. Our recommendations are going to be more reliable than in the first part."
   ]
  },
  {
   "cell_type": "code",
   "execution_count": 26,
   "metadata": {
    "id": "fx71X0FdGOn5"
   },
   "outputs": [
    {
     "name": "stderr",
     "output_type": "stream",
     "text": [
      "[Stage 7509:=================================================>   (94 + 1) / 100]\r"
     ]
    },
    {
     "name": "stdout",
     "output_type": "stream",
     "text": [
      "+------+--------------------+\n",
      "|userId|     recommendations|\n",
      "+------+--------------------+\n",
      "|  1580|[{572, 4.513469},...|\n",
      "|  4900|[{572, 5.821749},...|\n",
      "|  5300|[{572, 5.2067804}...|\n",
      "|   471|[{572, 4.707136},...|\n",
      "|  1591|[{572, 6.2328753}...|\n",
      "|  4101|[{572, 5.118311},...|\n",
      "|  1342|[{572, 4.8640623}...|\n",
      "|  2122|[{572, 4.955928},...|\n",
      "|  2142|[{572, 4.8442364}...|\n",
      "|   463|[{2905, 4.155943}...|\n",
      "|   833|[{572, 5.7941227}...|\n",
      "|  5803|[{2483, 4.596774}...|\n",
      "|  3794|[{572, 4.418244},...|\n",
      "|  1645|[{572, 6.4532743}...|\n",
      "|  3175|[{572, 4.931514},...|\n",
      "|  4935|[{2776, 4.324355}...|\n",
      "|   496|[{572, 5.77763}, ...|\n",
      "|  2366|[{572, 4.8865275}...|\n",
      "|  2866|[{572, 4.2841763}...|\n",
      "|  5156|[{572, 5.6740103}...|\n",
      "+------+--------------------+\n",
      "only showing top 20 rows\n",
      "\n"
     ]
    },
    {
     "name": "stderr",
     "output_type": "stream",
     "text": [
      "\r",
      "[Stage 7509:===================================================> (98 + 1) / 100]\r",
      "\r",
      "                                                                                \r"
     ]
    }
   ],
   "source": [
    "# Generate the the recommendations.\n",
    "# We are only looking for the top 5 of my recommended movies. The function recommendForAllUsers(x) find the x best recommandations. So we can use 5 as a parameter.\n",
    "myRecommendations2 = best_model2.recommendForAllUsers(5)\n",
    "\n",
    "# Overview of the recommendations\n",
    "myRecommendations2.show()"
   ]
  },
  {
   "cell_type": "code",
   "execution_count": 27,
   "metadata": {
    "colab": {
     "base_uri": "https://localhost:8080/"
    },
    "executionInfo": {
     "elapsed": 12799,
     "status": "ok",
     "timestamp": 1633906501065,
     "user": {
      "displayName": "Pierre-Louis Jallerat",
      "photoUrl": "https://lh3.googleusercontent.com/a/default-user=s64",
      "userId": "06702434749662866949"
     },
     "user_tz": -60
    },
    "id": "BtB2qtmgGOn_",
    "outputId": "0e5164a3-f272-44dc-f55b-c12d0bca9ac5"
   },
   "outputs": [
    {
     "name": "stderr",
     "output_type": "stream",
     "text": [
      "[Stage 7568:===============================================>    (184 + 1) / 200]\r"
     ]
    },
    {
     "name": "stdout",
     "output_type": "stream",
     "text": [
      "1 : Leather Jacket Love Story (1997)\n",
      "2 : Chushingura (1962)\n",
      "3 : Third Miracle, The (1999)\n",
      "4 : Foreign Student (1994)\n",
      "5 : Star Wars: Episode IV - A New Hope (1977)\n"
     ]
    },
    {
     "name": "stderr",
     "output_type": "stream",
     "text": [
      "\r",
      "                                                                                \r"
     ]
    }
   ],
   "source": [
    "# Cast the predictions into a dataframme well structure.\n",
    "myRecommendations2 = myRecommendations2.withColumn(\"rec_exp\", explode(\"recommendations\")).select('userId', col(\"rec_exp.movieId\"), col(\"rec_exp.rating\"))\n",
    "\n",
    "# My ratings correspond to the user 0 so I have to filter my dataframe on userId = 0. Then I use the movie Dataframe to find the name of the movies id.\n",
    "myRecommendations2List =  myRecommendations2.filter(myRecommendations2.userId == 0).join(moviesDF, ['movieId'], 'left')\n",
    "\n",
    "# Display my top 5 movies\n",
    "myRecommendations2List =  myRecommendations2.filter(myRecommendations2.userId == 0).join(moviesDF, ['movieId'], 'left').sort('rating', ascending=False).collect()\n",
    "for i in range(0, 5):\n",
    "  print(i + 1, \":\", myRecommendations2List[i][3])"
   ]
  },
  {
   "cell_type": "code",
   "execution_count": 28,
   "metadata": {
    "id": "ZvtbfYRbD1bL"
   },
   "outputs": [],
   "source": [
    "# clean up\n",
    "sc.stop()"
   ]
  }
 ],
 "metadata": {
  "colab": {
   "collapsed_sections": [],
   "name": "MovieRecommendationEngine-Starter.ipynb",
   "provenance": []
  },
  "kernelspec": {
   "display_name": "Python 3 (ipykernel)",
   "language": "python",
   "name": "python3"
  },
  "language_info": {
   "codemirror_mode": {
    "name": "ipython",
    "version": 3
   },
   "file_extension": ".py",
   "mimetype": "text/x-python",
   "name": "python",
   "nbconvert_exporter": "python",
   "pygments_lexer": "ipython3",
   "version": "3.8.10"
  }
 },
 "nbformat": 4,
 "nbformat_minor": 1
}
