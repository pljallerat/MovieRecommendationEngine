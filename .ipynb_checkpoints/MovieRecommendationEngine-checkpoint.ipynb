{
 "cells": [
  {
   "cell_type": "code",
   "execution_count": null,
   "metadata": {},
   "outputs": [
    {
     "name": "stdout",
     "output_type": "stream",
     "text": [
      "Collecting matplotlib\n",
      "  Using cached matplotlib-3.4.3-cp38-cp38-manylinux1_x86_64.whl (10.3 MB)\n",
      "Collecting pandas\n",
      "  Using cached pandas-1.3.3-cp38-cp38-manylinux_2_17_x86_64.manylinux2014_x86_64.whl (11.5 MB)\n",
      "Collecting numpy\n",
      "  Using cached numpy-1.21.2-cp38-cp38-manylinux_2_12_x86_64.manylinux2010_x86_64.whl (15.8 MB)\n",
      "Collecting seaborn\n",
      "  Using cached seaborn-0.11.2-py3-none-any.whl (292 kB)\n",
      "Collecting kiwisolver>=1.0.1\n",
      "  Using cached kiwisolver-1.3.2-cp38-cp38-manylinux_2_5_x86_64.manylinux1_x86_64.whl (1.2 MB)\n",
      "Requirement already satisfied: pyparsing>=2.2.1 in /home/pierre-louis/.local/lib/python3.8/site-packages (from matplotlib) (2.4.7)\n",
      "Requirement already satisfied: python-dateutil>=2.7 in /home/pierre-louis/.local/lib/python3.8/site-packages (from matplotlib) (2.8.2)\n",
      "Collecting pillow>=6.2.0\n",
      "  Using cached Pillow-8.4.0-cp38-cp38-manylinux_2_17_x86_64.manylinux2014_x86_64.whl (3.1 MB)\n",
      "Collecting cycler>=0.10\n",
      "  Using cached cycler-0.10.0-py2.py3-none-any.whl (6.5 kB)\n",
      "Collecting pytz>=2017.3\n",
      "  Using cached pytz-2021.3-py2.py3-none-any.whl (503 kB)\n",
      "Collecting scipy>=1.0\n",
      "  Using cached scipy-1.7.1-cp38-cp38-manylinux_2_5_x86_64.manylinux1_x86_64.whl (28.4 MB)\n",
      "Requirement already satisfied: six>=1.5 in /usr/lib/python3/dist-packages (from python-dateutil>=2.7->matplotlib) (1.14.0)\n",
      "Installing collected packages: kiwisolver, numpy, pillow, cycler, matplotlib, pytz, pandas, scipy, seaborn\n"
     ]
    }
   ],
   "source": [
    "!pip install matplotlib pandas numpy seaborn"
   ]
  },
  {
   "cell_type": "markdown",
   "metadata": {
    "id": "bpCFJ3ImD1a2"
   },
   "source": [
    "# Rating some movies\n",
    "#### To make recommendation for you, we are going to learn your taste by asking you to rate a few movies."
   ]
  },
  {
   "cell_type": "code",
   "execution_count": null,
   "metadata": {
    "colab": {
     "base_uri": "https://localhost:8080/"
    },
    "executionInfo": {
     "elapsed": 38412,
     "status": "ok",
     "timestamp": 1633885011985,
     "user": {
      "displayName": "Pierre-Louis Jallerat",
      "photoUrl": "https://lh3.googleusercontent.com/a/default-user=s64",
      "userId": "06702434749662866949"
     },
     "user_tz": -60
    },
    "id": "f9pPU2HAD1a9",
    "outputId": "9e88e58a-0130-4b5c-8ce7-50c6891beb03"
   },
   "outputs": [],
   "source": [
    "import sys\n",
    "import os\n",
    "from os import remove\n",
    "from time import time\n",
    "from os.path import join, isfile, dirname\n",
    "\n",
    "topMovies = \"\"\"1,Toy Story (1995)\n",
    "780,Independence Day (a.k.a. ID4) (1996)\n",
    "590,Dances with Wolves (1990)\n",
    "1210,Star Wars: Episode VI - Return of the Jedi (1983)\n",
    "648,Mission: Impossible (1996)\n",
    "344,Ace Ventura: Pet Detective (1994)\n",
    "165,Die Hard: With a Vengeance (1995)\n",
    "153,Batman Forever (1995)\n",
    "597,Pretty Woman (1990)\n",
    "1580,Men in Black (1997)\n",
    "231,Dumb & Dumber (1994)\"\"\"\n",
    "\n",
    "parentDir = os.path.abspath('')\n",
    "ratingsFile = join(parentDir, \"personalRatings.txt\")\n",
    "\n",
    "if isfile(ratingsFile):\n",
    "    r = input(\"Looks like you've already rated the movies. Overwrite ratings (y/N)? \")\n",
    "    if r and r[0].lower() == \"y\":\n",
    "        remove(ratingsFile)\n",
    "    else:\n",
    "        sys.exit()\n",
    "\n",
    "prompt = \"Please rate the following movie (1-5 (best), or 0 if not seen): \"\n",
    "print(prompt)\n",
    "\n",
    "now = int(time())\n",
    "n = 0\n",
    "\n",
    "f = open(ratingsFile, 'w')\n",
    "for line in topMovies.split(\"\\n\"):\n",
    "    ls = line.strip().split(\",\")\n",
    "    valid = False\n",
    "    while not valid:\n",
    "        rStr = input(ls[1] + \": \")\n",
    "        r = int(rStr) if rStr.isdigit() else -1\n",
    "        if r < 0 or r > 5:\n",
    "            print(prompt)\n",
    "        else:\n",
    "            valid = True\n",
    "            if r > 0:\n",
    "                f.write(\"0::%s::%d::%d\\n\" % (ls[0], r, now))\n",
    "                n += 1\n",
    "f.close()\n",
    "\n",
    "if n == 0:\n",
    "    print(\"No rating provided!\")\n"
   ]
  },
  {
   "cell_type": "markdown",
   "metadata": {
    "id": "iTEHSDQcD1bA"
   },
   "source": [
    "# Solution Structure"
   ]
  },
  {
   "cell_type": "code",
   "execution_count": null,
   "metadata": {
    "colab": {
     "base_uri": "https://localhost:8080/"
    },
    "executionInfo": {
     "elapsed": 15190,
     "status": "ok",
     "timestamp": 1633885048248,
     "user": {
      "displayName": "Pierre-Louis Jallerat",
      "photoUrl": "https://lh3.googleusercontent.com/a/default-user=s64",
      "userId": "06702434749662866949"
     },
     "user_tz": -60
    },
    "id": "qe_zq1OjD1bB",
    "outputId": "cc45a7df-efdf-4baf-9549-01dbf958cdfa"
   },
   "outputs": [],
   "source": [
    "# !/usr/bin/env python\n",
    "\n",
    "import sys\n",
    "import os\n",
    "import itertools\n",
    "from math import sqrt\n",
    "from operator import add\n",
    "from os.path import join, isfile, dirname\n",
    "from pyspark.sql import SparkSession\n",
    "#from pyspark.mllib.recommendation import ALS\n",
    "from pyspark.ml.recommendation import ALS\n",
    "\n",
    "\n",
    "def parseRating(line):\n",
    "    \"\"\"\n",
    "    Parses a rating record in MovieLens format userId::movieId::rating::timestamp .\n",
    "    \"\"\"\n",
    "    fields = line.strip().split(\"::\")\n",
    "    return int(fields[3]) % 10, (int(fields[0]), int(fields[1]), float(fields[2]))\n",
    "\n",
    "def _parseRating(line):\n",
    "    \"\"\"\n",
    "    Parses a rating record in MovieLens format userId::movieId::rating::timestamp .\n",
    "    \"\"\"\n",
    "    fields = line.strip().split(\"::\")\n",
    "    return (int(fields[0]), int(fields[1]), float(fields[2]))\n",
    "\n",
    "def parseMovie(line):\n",
    "    \"\"\"\n",
    "    Parses a movie record in MovieLens format movieId::movieTitle .\n",
    "    \"\"\"\n",
    "    fields = line.strip().split(\"::\")\n",
    "    return int(fields[0]), fields[1]\n",
    "\n",
    "def loadRatings(ratingsFile):\n",
    "    \"\"\"\n",
    "    Load ratings from file.\n",
    "    \"\"\"\n",
    "    if not isfile(ratingsFile):\n",
    "        print(\"File %s does not exist.\" % ratingsFile)\n",
    "        sys.exit(1)\n",
    "    f = open(ratingsFile, 'r')\n",
    "    ratings = filter(lambda r: r[2] > 0, [parseRating(line)[1] for line in f])\n",
    "    f.close()\n",
    "    if not ratings:\n",
    "        print(\"No ratings provided.\")\n",
    "        sys.exit(1)\n",
    "    else:\n",
    "        return ratings\n",
    "\n",
    "def computeRmse(model, data, n):\n",
    "    \"\"\"\n",
    "    Compute RMSE (Root Mean Squared Error).\n",
    "    \"\"\"\n",
    "    predictions = model.predictAll(data.map(lambda x: (x[0], x[1])))\n",
    "    predictionsAndRatings = predictions.map(lambda x: ((x[0], x[1]), x[2])) \\\n",
    "      .join(data.map(lambda x: ((x[0], x[1]), x[2]))) \\\n",
    "      .values()\n",
    "    return sqrt(predictionsAndRatings.map(lambda x: (x[0] - x[1]) ** 2).reduce(add) / float(n))\n",
    "\n",
    "if __name__ == \"__main__\":\n",
    "\n",
    "    # set up environment\n",
    "    spark = SparkSession.builder \\\n",
    "   .master(\"local\") \\\n",
    "   .appName(\"Movie Recommendation Engine\") \\\n",
    "   .config(\"spark.executor.memory\", \"1gb\") \\\n",
    "   .getOrCreate()\n",
    "   \n",
    "    sc = spark.sparkContext\n",
    "    \n",
    "    movieLensHomeDir = os.path.abspath('') + '/movielens/medium/'\n",
    "\n",
    "    # load personal ratings\n",
    "    myRatings = loadRatings(os.path.abspath('personalRatings.txt'))\n",
    "    myRatingsRDD = sc.parallelize(myRatings, 1)\n",
    "    \n",
    "    # load ratings and movie titles\n",
    "\n",
    "    movieLensHomeDir = os.path.abspath('') + '/movielens/medium/'\n",
    "    \n",
    "    # ratings is an RDD of (last digit of timestamp, (userId, movieId, rating))\n",
    "    ratings = sc.textFile(join(movieLensHomeDir, \"ratings.dat\")).map(_parseRating)\n",
    "\n",
    "    # movies is an RDD of (movieId, movieTitle)\n",
    "    movies = sc.textFile(join(movieLensHomeDir, \"movies.dat\")).map(parseMovie)\n",
    "\n",
    "    # Casting the RDD into Dataframe and visualise data to check if the data exist. \n",
    "    myRatingsDF = myRatingsRDD.toDF([\"userId\", \"movieId\", \"rating\"])\n",
    "    moviesDF = movies.toDF(['movieID', 'movieName'])\n",
    "    ratingsDF = ratings.toDF([\"userId\", \"movieId\", \"rating\"])\n",
    "    \n",
    "    myRatingsDF.show()\n",
    "    ratingsDF.show()\n",
    "    moviesDF.show()"
   ]
  },
  {
   "cell_type": "markdown",
   "metadata": {
    "id": "CWQ0BiqwaI2S"
   },
   "source": [
    "# Data Exploration"
   ]
  },
  {
   "cell_type": "code",
   "execution_count": null,
   "metadata": {
    "colab": {
     "base_uri": "https://localhost:8080/"
    },
    "executionInfo": {
     "elapsed": 15409,
     "status": "ok",
     "timestamp": 1633885124400,
     "user": {
      "displayName": "Pierre-Louis Jallerat",
      "photoUrl": "https://lh3.googleusercontent.com/a/default-user=s64",
      "userId": "06702434749662866949"
     },
     "user_tz": -60
    },
    "id": "IE7a8fBmaILr",
    "outputId": "91122ab4-4e0a-49a0-db70-4ec50d338579"
   },
   "outputs": [],
   "source": [
    "# Get an idea of the size of the dataset\n",
    "from pyspark.sql.functions import countDistinct\n",
    "\n",
    "nbOfMovies = moviesDF.count()\n",
    "print(\"The database contains\", nbOfMovies, \"movies\")\n",
    "\n",
    "nbOfRatings = ratingsDF.count()\n",
    "print(\"The database contains\", nbOfRatings, \"ratings\")\n",
    "\n",
    "nbOfUsers=ratingsDF.select(countDistinct(\"userId\")).first()[0]\n",
    "print(\"The database contains\", nbOfUsers, \"users\")"
   ]
  },
  {
   "cell_type": "code",
   "execution_count": null,
   "metadata": {
    "colab": {
     "base_uri": "https://localhost:8080/",
     "height": 297
    },
    "executionInfo": {
     "elapsed": 2976,
     "status": "ok",
     "timestamp": 1633885155718,
     "user": {
      "displayName": "Pierre-Louis Jallerat",
      "photoUrl": "https://lh3.googleusercontent.com/a/default-user=s64",
      "userId": "06702434749662866949"
     },
     "user_tz": -60
    },
    "id": "DKTN0NtQA61-",
    "outputId": "61838d90-089f-488a-ed78-b42ec8894d5d"
   },
   "outputs": [],
   "source": [
    "# Years with the highest number of movies release in the DB\n",
    "from pyspark.sql.functions import split, regexp_extract, col, length, substring\n",
    "import seaborn as snsat \n",
    "import matplotlib.pyplot as plt\n",
    "\n",
    "moviesDFyear = moviesDF.withColumn('year', regexp_extract(col('movieName'), '\\(([^)]*)\\)[^(]*$', 1))\n",
    "\n",
    "moviesByYearPd = moviesDFyear.groupBy('year').count().toPandas()\n",
    "moviesByYearPd = moviesByYearPd.sort_values(by=['year'], ascending = True)\n",
    "\n",
    "plt.figure(figsize=(14,4))\n",
    "ax = snsat.barplot(x=\"year\", y=\"count\", data=moviesByYearPd)\n",
    "ax.set_xticklabels(ax.get_xticklabels(), rotation=90, ha=\"right\")\n",
    "plt.tight_layout()\n",
    "plt.show()"
   ]
  },
  {
   "cell_type": "code",
   "execution_count": null,
   "metadata": {
    "colab": {
     "base_uri": "https://localhost:8080/",
     "height": 585
    },
    "executionInfo": {
     "elapsed": 19003,
     "status": "ok",
     "timestamp": 1633885210169,
     "user": {
      "displayName": "Pierre-Louis Jallerat",
      "photoUrl": "https://lh3.googleusercontent.com/a/default-user=s64",
      "userId": "06702434749662866949"
     },
     "user_tz": -60
    },
    "id": "l40hM0f6xnLg",
    "outputId": "fe27279f-e547-4bdd-ab7b-08672d2ce926"
   },
   "outputs": [],
   "source": [
    "# Movies with the most important number of ratings\n",
    "\n",
    "movies_ratingsDF = ratingsDF.join(moviesDF, 'movieId')\n",
    "moviesByNbRate = movies_ratingsDF.groupby('movieId').count()\n",
    "moviesByNbRate = moviesByNbRate.join(moviesDF, ['movieId'], 'left')\n",
    "moviesByNbRate = moviesByNbRate.sort(moviesByNbRate['count'].desc()).withColumnRenamed('count', 'NbRatings' )\n",
    "\n",
    "moviesByNbRatePd = moviesByNbRate.toPandas()\n",
    "moviesByNbRatePd = moviesByNbRatePd.sort_values(by=['NbRatings'], ascending = True)\n",
    "moviesByNbRatePd = moviesByNbRatePd.nlargest(35, columns='NbRatings')\n",
    "\n",
    "plt.figure(figsize=(14,8))\n",
    "ax = snsat.barplot(y=\"NbRatings\", x=\"movieName\", data=moviesByNbRatePd)\n",
    "ax.set_xticklabels(ax.get_xticklabels(), rotation=40, ha=\"right\")\n",
    "plt.tight_layout()\n",
    "plt.show()"
   ]
  },
  {
   "cell_type": "markdown",
   "metadata": {
    "id": "Qbe7rDAgc-CF"
   },
   "source": [
    "# Pre-Processing"
   ]
  },
  {
   "cell_type": "code",
   "execution_count": null,
   "metadata": {
    "colab": {
     "base_uri": "https://localhost:8080/"
    },
    "executionInfo": {
     "elapsed": 7534,
     "status": "ok",
     "timestamp": 1633885217692,
     "user": {
      "displayName": "Pierre-Louis Jallerat",
      "photoUrl": "https://lh3.googleusercontent.com/a/default-user=s64",
      "userId": "06702434749662866949"
     },
     "user_tz": -60
    },
    "id": "0E9hYZm7c9xV",
    "outputId": "d1a14b90-65a3-4e68-d48e-d7f16e53e43b"
   },
   "outputs": [],
   "source": [
    "# Check if the ratings are consistent (between 0 and 5)\n",
    "ratingsDF = ratingsDF.filter((ratingsDF.rating <= 5) & (ratingsDF.rating >= 0) )\n",
    "print(\"Number of ratings out of the range [0 - 5]:\", nbOfRatings - ratingsDF.count())"
   ]
  },
  {
   "cell_type": "code",
   "execution_count": null,
   "metadata": {
    "colab": {
     "base_uri": "https://localhost:8080/"
    },
    "executionInfo": {
     "elapsed": 5605,
     "status": "ok",
     "timestamp": 1633885223293,
     "user": {
      "displayName": "Pierre-Louis Jallerat",
      "photoUrl": "https://lh3.googleusercontent.com/a/default-user=s64",
      "userId": "06702434749662866949"
     },
     "user_tz": -60
    },
    "id": "CN6r10UfzT0G",
    "outputId": "29320f22-de34-423d-f2ea-f65177b2b7a8"
   },
   "outputs": [],
   "source": [
    "# Check if there is not NaN value in the matrix rating\n",
    "from pyspark.sql.functions import isnan, when, count, col\n",
    "ratingsDF.select([count(when(isnan(c), c)).alias(c) for c in ratingsDF.columns]).show()\n",
    "\n",
    "moviesDF.select([count(when(isnan(c), c)).alias(c) for c in moviesDF.columns]).show()"
   ]
  },
  {
   "cell_type": "code",
   "execution_count": null,
   "metadata": {
    "colab": {
     "base_uri": "https://localhost:8080/"
    },
    "executionInfo": {
     "elapsed": 10595,
     "status": "ok",
     "timestamp": 1633885233884,
     "user": {
      "displayName": "Pierre-Louis Jallerat",
      "photoUrl": "https://lh3.googleusercontent.com/a/default-user=s64",
      "userId": "06702434749662866949"
     },
     "user_tz": -60
    },
    "id": "4rXb8fsA0h4p",
    "outputId": "e9d62d19-3189-41b8-d499-c38382964c8a"
   },
   "outputs": [],
   "source": [
    "# Drop dublicate rows\n",
    "ratingsDF = ratingsDF.dropDuplicates()\n",
    "print(\"Number of duplicate row for the rating dataset:\", nbOfRatings - ratingsDF.count())\n",
    "\n",
    "moviesDF = moviesDF.dropDuplicates()\n",
    "print(\"Number of duplicate row the movies dataset:\", nbOfMovies - moviesDF.count())"
   ]
  },
  {
   "cell_type": "markdown",
   "metadata": {
    "id": "Fb10Pee4bOXA"
   },
   "source": [
    "# Implementation of the Machine Learning Prediction Part 1"
   ]
  },
  {
   "cell_type": "code",
   "execution_count": null,
   "metadata": {
    "id": "bHYzJBLGD1bF"
   },
   "outputs": [],
   "source": [
    "from pyspark.ml.evaluation import RegressionEvaluator\n",
    "from pyspark.ml.recommendation import ALS\n",
    "from pyspark.ml.tuning import ParamGridBuilder, CrossValidator"
   ]
  },
  {
   "cell_type": "code",
   "execution_count": null,
   "metadata": {
    "id": "cKPBp-xGWhnb"
   },
   "outputs": [],
   "source": [
    "# Create test and train set\n",
    "(train, test) = ratingsDF.randomSplit([0.8, 0.2], seed = 5678)"
   ]
  },
  {
   "cell_type": "code",
   "execution_count": null,
   "metadata": {
    "colab": {
     "background_save": true
    },
    "id": "uYpvPKToD1bG"
   },
   "outputs": [],
   "source": [
    "# Create ALS model\n",
    "als = ALS(maxIter=5, regParam=0.01, userCol=\"userId\", itemCol=\"movieId\", ratingCol=\"rating\",\n",
    "          coldStartStrategy=\"drop\")"
   ]
  },
  {
   "cell_type": "code",
   "execution_count": null,
   "metadata": {
    "colab": {
     "background_save": true,
     "base_uri": "https://localhost:8080/"
    },
    "executionInfo": {
     "elapsed": 7945,
     "status": "ok",
     "timestamp": 1633885326740,
     "user": {
      "displayName": "Pierre-Louis Jallerat",
      "photoUrl": "https://lh3.googleusercontent.com/a/default-user=s64",
      "userId": "06702434749662866949"
     },
     "user_tz": -60
    },
    "id": "WqGh_Yo9IuId",
    "outputId": "cb658545-b4da-4129-bf65-294b84d9ec8e"
   },
   "outputs": [],
   "source": [
    "# Add my movies ratings to the training database\n",
    "trainWithMyRatings = train.union(myRatingsDF)\n",
    "\n",
    "# Check if the ratings were correctly added\n",
    "trainWithMyRatings.filter(trainWithMyRatings.userId == 0).show()"
   ]
  },
  {
   "cell_type": "code",
   "execution_count": null,
   "metadata": {
    "colab": {
     "base_uri": "https://localhost:8080/"
    },
    "executionInfo": {
     "elapsed": 43076,
     "status": "ok",
     "timestamp": 1633885369801,
     "user": {
      "displayName": "Pierre-Louis Jallerat",
      "photoUrl": "https://lh3.googleusercontent.com/a/default-user=s64",
      "userId": "06702434749662866949"
     },
     "user_tz": -60
    },
    "id": "tMrBaq2yJVx3",
    "outputId": "ea003e60-902d-48a2-ba32-963fa44ba5f7"
   },
   "outputs": [],
   "source": [
    "# Train my model with my ratings\n",
    "modelWithMyRatings = als.fit(trainWithMyRatings)\n",
    "\n",
    "# Generate the predictions with the new model based on the test dataset\n",
    "predictions = modelWithMyRatings.transform(test)\n",
    "\n",
    "# Remove potential NaN number generated during the prediction\n",
    "predictions = predictions.filter(predictions.prediction != float('nan'))\n",
    "\n",
    "# Overview of the generated prediction\n",
    "predictions.show(15)"
   ]
  },
  {
   "cell_type": "code",
   "execution_count": null,
   "metadata": {
    "colab": {
     "base_uri": "https://localhost:8080/"
    },
    "executionInfo": {
     "elapsed": 30847,
     "status": "ok",
     "timestamp": 1633885400637,
     "user": {
      "displayName": "Pierre-Louis Jallerat",
      "photoUrl": "https://lh3.googleusercontent.com/a/default-user=s64",
      "userId": "06702434749662866949"
     },
     "user_tz": -60
    },
    "id": "_nSs8mXKKHBu",
    "outputId": "0760fcc6-e058-4114-9650-ee8e1607767e"
   },
   "outputs": [],
   "source": [
    "evaluator = RegressionEvaluator(metricName=\"rmse\", labelCol=\"rating\",\n",
    "                                predictionCol=\"prediction\")\n",
    "\n",
    "# Run the RMSE evaluator to check to quality of the new model\n",
    "rmse = evaluator.evaluate(predictions)\n",
    "print(\"The RMSE is\", rmse)"
   ]
  },
  {
   "cell_type": "code",
   "execution_count": null,
   "metadata": {
    "colab": {
     "base_uri": "https://localhost:8080/"
    },
    "executionInfo": {
     "elapsed": 861,
     "status": "ok",
     "timestamp": 1633885401488,
     "user": {
      "displayName": "Pierre-Louis Jallerat",
      "photoUrl": "https://lh3.googleusercontent.com/a/default-user=s64",
      "userId": "06702434749662866949"
     },
     "user_tz": -60
    },
    "id": "o7-oPuH4K-0O",
    "outputId": "1fe08596-0830-42c9-f41a-4837469dcd2c"
   },
   "outputs": [],
   "source": [
    "# Generate the the recommendations.\n",
    "# We are only looking for the top 5 of my recommended movies. The function recommendForAllUsers(x) find the x best recommandations. So we can use 5 as a parameter.\n",
    "myRecommendations = modelWithMyRatings.recommendForAllUsers(5)"
   ]
  },
  {
   "cell_type": "code",
   "execution_count": null,
   "metadata": {
    "colab": {
     "base_uri": "https://localhost:8080/"
    },
    "executionInfo": {
     "elapsed": 25701,
     "status": "ok",
     "timestamp": 1633885493913,
     "user": {
      "displayName": "Pierre-Louis Jallerat",
      "photoUrl": "https://lh3.googleusercontent.com/a/default-user=s64",
      "userId": "06702434749662866949"
     },
     "user_tz": -60
    },
    "id": "viPvCWjzWojp",
    "outputId": "c2eb132b-5008-4925-8dc1-ec87b274c2d3"
   },
   "outputs": [],
   "source": [
    "from pyspark.sql.functions import explode\n",
    "\n",
    "# Cast the predictions into a dataframme well structure.\n",
    "myRecommendations = myRecommendations.withColumn(\"rec_exp\", explode(\"recommendations\")).select('userId', col(\"rec_exp.movieId\"), col(\"rec_exp.rating\"))\n",
    "\n",
    "# My ratings correspond to the user 0 so I have to filter my dataframe on userId = 0. Then I use the movie Dataframe to find the name of the movies id.\n",
    "myRecommendationsList =  myRecommendations.filter(myRecommendations.userId == 0).join(moviesDF, ['movieId'], 'left')\n",
    "\n",
    "# Display my top 5 movies\n",
    "myRecommendationsList =  myRecommendations.filter(myRecommendations.userId == 0).join(moviesDF, ['movieId'], 'left').sort('rating', ascending=False).collect()\n",
    "for i in range(0, 5):\n",
    "  print(i + 1, \":\", myRecommendationsList[i][3])"
   ]
  },
  {
   "cell_type": "markdown",
   "metadata": {
    "id": "Lyup2XN1Ywao"
   },
   "source": [
    "# Implementation of the Machine Learning Prediction Part 2\n",
    "\n",
    "In the part, we are going to try to generate a better ALS model. Using a list of parameters (instead of a set), we are going to try different tuning for our model, compare their RMSE and choose the most accurate model. By making more tries to find the best tuning, we hope generating a better model.\n",
    "\n",
    "We will start this new part with the same train and test datasets"
   ]
  },
  {
   "cell_type": "code",
   "execution_count": null,
   "metadata": {
    "id": "GzslgnjpZGW-"
   },
   "outputs": [],
   "source": [
    "# Create ALS model\n",
    "als2 = ALS(userCol=\"userId\", itemCol=\"movieId\", ratingCol=\"rating\",\n",
    "          coldStartStrategy=\"drop\")\n"
   ]
  },
  {
   "cell_type": "code",
   "execution_count": null,
   "metadata": {
    "colab": {
     "base_uri": "https://localhost:8080/"
    },
    "executionInfo": {
     "elapsed": 218,
     "status": "ok",
     "timestamp": 1633885796654,
     "user": {
      "displayName": "Pierre-Louis Jallerat",
      "photoUrl": "https://lh3.googleusercontent.com/a/default-user=s64",
      "userId": "06702434749662866949"
     },
     "user_tz": -60
    },
    "id": "v1JHiv86ZN4A",
    "outputId": "5fddc923-82eb-486f-9226-3a7547627cec"
   },
   "outputs": [],
   "source": [
    "from pyspark.ml.tuning import ParamGridBuilder, CrossValidator\n",
    "from pyspark.ml.evaluation import RegressionEvaluator\n",
    "\n",
    "# Giving a list of parameter for the tuning instead of set of parameter\n",
    "param_grid = ParamGridBuilder() \\\n",
    "            .addGrid(als.rank, [4, 12, 30, 60]) \\\n",
    "            .addGrid(als.regParam, [.01, .04, .1, .14]) \\\n",
    "            .build()\n",
    "\n",
    "# Create a cross validation. The CrossValidator object will allows us to compare the RMSE (\"evaluator\" parameter) of our als2 model for each set of parameter.\n",
    "cv2 = CrossValidator(estimator=als2, estimatorParamMaps=param_grid, evaluator=evaluator, numFolds=5)\n",
    "\n",
    "# There are 2 parameters with 4 possible values for each one, which means 16 possible combinaisons of parameters.\n",
    "print (\"Number of possible models to be tested: \", len(param_grid))"
   ]
  },
  {
   "cell_type": "code",
   "execution_count": null,
   "metadata": {
    "id": "VZ0g86IiGgrs"
   },
   "outputs": [],
   "source": [
    "# Train the model using the CrossValidator Object and the train dataset\n",
    "model2 = cv2.fit(trainWithMyRatings)\n",
    "\n",
    "# Extract best model from the cv model above\n",
    "best_model2 = model2.bestModel\n",
    "\n",
    "print(\"Best Model parameter:\")\n",
    "print(\"  Rank:\", best_model2._java_obj.parent().getRank())\n",
    "print(\"  RegParam:\", best_model2._java_obj.parent().getRegParam())"
   ]
  },
  {
   "cell_type": "code",
   "execution_count": null,
   "metadata": {},
   "outputs": [],
   "source": [
    "# Generate the predictions with the new model based on the test data\n",
    "predictions2 = best_model2.transform(test)\n",
    "predictions2.show()"
   ]
  },
  {
   "cell_type": "code",
   "execution_count": null,
   "metadata": {
    "colab": {
     "base_uri": "https://localhost:8080/"
    },
    "executionInfo": {
     "elapsed": 30056,
     "status": "ok",
     "timestamp": 1633907483319,
     "user": {
      "displayName": "Pierre-Louis Jallerat",
      "photoUrl": "https://lh3.googleusercontent.com/a/default-user=s64",
      "userId": "06702434749662866949"
     },
     "user_tz": -60
    },
    "id": "8TJI90FIGgry",
    "outputId": "64c0c87c-dcb0-456d-f658-5da42d2325b5"
   },
   "outputs": [],
   "source": [
    "# Run the previous RMSE evaluator to check to quality of the new model\n",
    "rmse2 = evaluator.evaluate(predictions2)\n",
    "print(\"The RMSE is\", rmse2)"
   ]
  },
  {
   "cell_type": "markdown",
   "metadata": {
    "id": "LzYvYzPYHjY1"
   },
   "source": [
    "Using the same test dataset the RMSE lower than in the first part so our model is more accurate. Our recommendations are going to be more reliable than in the first part."
   ]
  },
  {
   "cell_type": "code",
   "execution_count": null,
   "metadata": {
    "id": "fx71X0FdGOn5"
   },
   "outputs": [],
   "source": [
    "# Generate the the recommendations.\n",
    "# We are only looking for the top 5 of my recommended movies. The function recommendForAllUsers(x) find the x best recommandations. So we can use 5 as a parameter.\n",
    "myRecommendations2 = best_model2.recommendForAllUsers(5)\n",
    "\n",
    "# Overview of the recommendations\n",
    "myRecommendations2.show()"
   ]
  },
  {
   "cell_type": "code",
   "execution_count": null,
   "metadata": {
    "colab": {
     "base_uri": "https://localhost:8080/"
    },
    "executionInfo": {
     "elapsed": 12799,
     "status": "ok",
     "timestamp": 1633906501065,
     "user": {
      "displayName": "Pierre-Louis Jallerat",
      "photoUrl": "https://lh3.googleusercontent.com/a/default-user=s64",
      "userId": "06702434749662866949"
     },
     "user_tz": -60
    },
    "id": "BtB2qtmgGOn_",
    "outputId": "0e5164a3-f272-44dc-f55b-c12d0bca9ac5"
   },
   "outputs": [],
   "source": [
    "# Cast the predictions into a dataframme well structure.\n",
    "myRecommendations2 = myRecommendations2.withColumn(\"rec_exp\", explode(\"recommendations\")).select('userId', col(\"rec_exp.movieId\"), col(\"rec_exp.rating\"))\n",
    "\n",
    "# My ratings correspond to the user 0 so I have to filter my dataframe on userId = 0. Then I use the movie Dataframe to find the name of the movies id.\n",
    "myRecommendations2List =  myRecommendations2.filter(myRecommendations2.userId == 0).join(moviesDF, ['movieId'], 'left')\n",
    "\n",
    "# Display my top 5 movies\n",
    "myRecommendations2List =  myRecommendations2.filter(myRecommendations2.userId == 0).join(moviesDF, ['movieId'], 'left').sort('rating', ascending=False).collect()\n",
    "for i in range(0, 5):\n",
    "  print(i + 1, \":\", myRecommendations2List[i][3])"
   ]
  },
  {
   "cell_type": "code",
   "execution_count": null,
   "metadata": {
    "id": "ZvtbfYRbD1bL"
   },
   "outputs": [],
   "source": [
    "# clean up\n",
    "sc.stop()"
   ]
  }
 ],
 "metadata": {
  "colab": {
   "collapsed_sections": [],
   "name": "MovieRecommendationEngine-Starter.ipynb",
   "provenance": []
  },
  "kernelspec": {
   "display_name": "Python 3 (ipykernel)",
   "language": "python",
   "name": "python3"
  },
  "language_info": {
   "codemirror_mode": {
    "name": "ipython",
    "version": 3
   },
   "file_extension": ".py",
   "mimetype": "text/x-python",
   "name": "python",
   "nbconvert_exporter": "python",
   "pygments_lexer": "ipython3",
   "version": "3.8.10"
  }
 },
 "nbformat": 4,
 "nbformat_minor": 1
}
